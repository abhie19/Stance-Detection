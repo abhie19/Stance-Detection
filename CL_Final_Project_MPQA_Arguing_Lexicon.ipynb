{
 "cells": [
  {
   "cell_type": "markdown",
   "metadata": {},
   "source": [
    "## Subjectivity Lexicon"
   ]
  },
  {
   "cell_type": "code",
   "execution_count": 25,
   "metadata": {
    "collapsed": true
   },
   "outputs": [],
   "source": [
    "import pandas as pd\n",
    "import numpy as np\n",
    "%matplotlib inline\n",
    "import matplotlib.pyplot as plt\n",
    "import nltk\n",
    "#Reference: https://www.kaggle.com/c/word2vec-nlp-tutorial/details/part-1-for-beginners-bag-of-words"
   ]
  },
  {
   "cell_type": "code",
   "execution_count": 26,
   "metadata": {
    "collapsed": false
   },
   "outputs": [
    {
     "data": {
      "text/html": [
       "<div>\n",
       "<table border=\"1\" class=\"dataframe\">\n",
       "  <thead>\n",
       "    <tr style=\"text-align: right;\">\n",
       "      <th></th>\n",
       "      <th>Tweet</th>\n",
       "      <th>Target</th>\n",
       "      <th>Stance</th>\n",
       "      <th>Opinion Towards</th>\n",
       "      <th>Sentiment</th>\n",
       "    </tr>\n",
       "  </thead>\n",
       "  <tbody>\n",
       "    <tr>\n",
       "      <th>0</th>\n",
       "      <td>@tedcruz And, #HandOverTheServer she wiped cle...</td>\n",
       "      <td>Hillary Clinton</td>\n",
       "      <td>AGAINST</td>\n",
       "      <td>1.  The tweet explicitly expresses opinion abo...</td>\n",
       "      <td>neg</td>\n",
       "    </tr>\n",
       "    <tr>\n",
       "      <th>1</th>\n",
       "      <td>Hillary is our best choice if we truly want to...</td>\n",
       "      <td>Hillary Clinton</td>\n",
       "      <td>FAVOR</td>\n",
       "      <td>1.  The tweet explicitly expresses opinion abo...</td>\n",
       "      <td>pos</td>\n",
       "    </tr>\n",
       "    <tr>\n",
       "      <th>2</th>\n",
       "      <td>@TheView I think our country is ready for a fe...</td>\n",
       "      <td>Hillary Clinton</td>\n",
       "      <td>AGAINST</td>\n",
       "      <td>1.  The tweet explicitly expresses opinion abo...</td>\n",
       "      <td>neg</td>\n",
       "    </tr>\n",
       "    <tr>\n",
       "      <th>3</th>\n",
       "      <td>I just gave an unhealthy amount of my hard-ear...</td>\n",
       "      <td>Hillary Clinton</td>\n",
       "      <td>AGAINST</td>\n",
       "      <td>1.  The tweet explicitly expresses opinion abo...</td>\n",
       "      <td>neg</td>\n",
       "    </tr>\n",
       "    <tr>\n",
       "      <th>4</th>\n",
       "      <td>@PortiaABoulger Thank you for adding me to you...</td>\n",
       "      <td>Hillary Clinton</td>\n",
       "      <td>NONE</td>\n",
       "      <td>3.  The tweet is not explicitly expressing opi...</td>\n",
       "      <td>pos</td>\n",
       "    </tr>\n",
       "  </tbody>\n",
       "</table>\n",
       "</div>"
      ],
      "text/plain": [
       "                                               Tweet           Target  \\\n",
       "0  @tedcruz And, #HandOverTheServer she wiped cle...  Hillary Clinton   \n",
       "1  Hillary is our best choice if we truly want to...  Hillary Clinton   \n",
       "2  @TheView I think our country is ready for a fe...  Hillary Clinton   \n",
       "3  I just gave an unhealthy amount of my hard-ear...  Hillary Clinton   \n",
       "4  @PortiaABoulger Thank you for adding me to you...  Hillary Clinton   \n",
       "\n",
       "    Stance                                    Opinion Towards Sentiment  \n",
       "0  AGAINST  1.  The tweet explicitly expresses opinion abo...       neg  \n",
       "1    FAVOR  1.  The tweet explicitly expresses opinion abo...       pos  \n",
       "2  AGAINST  1.  The tweet explicitly expresses opinion abo...       neg  \n",
       "3  AGAINST  1.  The tweet explicitly expresses opinion abo...       neg  \n",
       "4     NONE  3.  The tweet is not explicitly expressing opi...       pos  "
      ]
     },
     "execution_count": 26,
     "metadata": {},
     "output_type": "execute_result"
    }
   ],
   "source": [
    "train = pd.read_csv('/Users/Abhishek/Desktop/train.csv')\n",
    "#test = pd.read_excel('/Users/Abhishek/Desktop/test.csv')\n",
    "train.head()"
   ]
  },
  {
   "cell_type": "code",
   "execution_count": 27,
   "metadata": {
    "collapsed": false
   },
   "outputs": [
    {
     "data": {
      "text/plain": [
       "array(['Hillary Clinton'], dtype=object)"
      ]
     },
     "execution_count": 27,
     "metadata": {},
     "output_type": "execute_result"
    }
   ],
   "source": [
    "train.Target.unique()"
   ]
  },
  {
   "cell_type": "code",
   "execution_count": 28,
   "metadata": {
    "collapsed": false
   },
   "outputs": [],
   "source": [
    "lexicon_file= pd.read_table(\"/Users/Abhishek/Library/Mobile Documents/com~apple~CloudDocs/IU/Sem 3/Computation and Linguistics/Final Project/subjectivity_clues_hltemnlp05/sentiment.tff\", header = None, sep=\" \")"
   ]
  },
  {
   "cell_type": "code",
   "execution_count": 29,
   "metadata": {
    "collapsed": false
   },
   "outputs": [
    {
     "data": {
      "text/html": [
       "<div>\n",
       "<table border=\"1\" class=\"dataframe\">\n",
       "  <thead>\n",
       "    <tr style=\"text-align: right;\">\n",
       "      <th></th>\n",
       "      <th>0</th>\n",
       "      <th>1</th>\n",
       "      <th>2</th>\n",
       "      <th>3</th>\n",
       "      <th>4</th>\n",
       "      <th>5</th>\n",
       "    </tr>\n",
       "  </thead>\n",
       "  <tbody>\n",
       "    <tr>\n",
       "      <th>0</th>\n",
       "      <td>type=weaksubj</td>\n",
       "      <td>len=1</td>\n",
       "      <td>word1=abandoned</td>\n",
       "      <td>pos1=adj</td>\n",
       "      <td>stemmed1=n</td>\n",
       "      <td>priorpolarity=negative</td>\n",
       "    </tr>\n",
       "    <tr>\n",
       "      <th>1</th>\n",
       "      <td>type=weaksubj</td>\n",
       "      <td>len=1</td>\n",
       "      <td>word1=abandonment</td>\n",
       "      <td>pos1=noun</td>\n",
       "      <td>stemmed1=n</td>\n",
       "      <td>priorpolarity=negative</td>\n",
       "    </tr>\n",
       "    <tr>\n",
       "      <th>2</th>\n",
       "      <td>type=weaksubj</td>\n",
       "      <td>len=1</td>\n",
       "      <td>word1=abandon</td>\n",
       "      <td>pos1=verb</td>\n",
       "      <td>stemmed1=y</td>\n",
       "      <td>priorpolarity=negative</td>\n",
       "    </tr>\n",
       "    <tr>\n",
       "      <th>3</th>\n",
       "      <td>type=strongsubj</td>\n",
       "      <td>len=1</td>\n",
       "      <td>word1=abase</td>\n",
       "      <td>pos1=verb</td>\n",
       "      <td>stemmed1=y</td>\n",
       "      <td>priorpolarity=negative</td>\n",
       "    </tr>\n",
       "    <tr>\n",
       "      <th>4</th>\n",
       "      <td>type=strongsubj</td>\n",
       "      <td>len=1</td>\n",
       "      <td>word1=abasement</td>\n",
       "      <td>pos1=anypos</td>\n",
       "      <td>stemmed1=y</td>\n",
       "      <td>priorpolarity=negative</td>\n",
       "    </tr>\n",
       "  </tbody>\n",
       "</table>\n",
       "</div>"
      ],
      "text/plain": [
       "                 0      1                  2            3           4  \\\n",
       "0    type=weaksubj  len=1    word1=abandoned     pos1=adj  stemmed1=n   \n",
       "1    type=weaksubj  len=1  word1=abandonment    pos1=noun  stemmed1=n   \n",
       "2    type=weaksubj  len=1      word1=abandon    pos1=verb  stemmed1=y   \n",
       "3  type=strongsubj  len=1        word1=abase    pos1=verb  stemmed1=y   \n",
       "4  type=strongsubj  len=1    word1=abasement  pos1=anypos  stemmed1=y   \n",
       "\n",
       "                        5  \n",
       "0  priorpolarity=negative  \n",
       "1  priorpolarity=negative  \n",
       "2  priorpolarity=negative  \n",
       "3  priorpolarity=negative  \n",
       "4  priorpolarity=negative  "
      ]
     },
     "execution_count": 29,
     "metadata": {},
     "output_type": "execute_result"
    }
   ],
   "source": [
    "lexicon_file.head()"
   ]
  },
  {
   "cell_type": "code",
   "execution_count": 30,
   "metadata": {
    "collapsed": false
   },
   "outputs": [
    {
     "data": {
      "text/html": [
       "<div>\n",
       "<table border=\"1\" class=\"dataframe\">\n",
       "  <thead>\n",
       "    <tr style=\"text-align: right;\">\n",
       "      <th></th>\n",
       "      <th>0</th>\n",
       "      <th>1</th>\n",
       "      <th>2</th>\n",
       "      <th>3</th>\n",
       "      <th>4</th>\n",
       "      <th>5</th>\n",
       "    </tr>\n",
       "  </thead>\n",
       "  <tbody>\n",
       "    <tr>\n",
       "      <th>8217</th>\n",
       "      <td>type=strongsubj</td>\n",
       "      <td>len=1</td>\n",
       "      <td>word1=zealot</td>\n",
       "      <td>pos1=noun</td>\n",
       "      <td>stemmed1=n</td>\n",
       "      <td>priorpolarity=negative</td>\n",
       "    </tr>\n",
       "    <tr>\n",
       "      <th>8218</th>\n",
       "      <td>type=strongsubj</td>\n",
       "      <td>len=1</td>\n",
       "      <td>word1=zealous</td>\n",
       "      <td>pos1=adj</td>\n",
       "      <td>stemmed1=n</td>\n",
       "      <td>priorpolarity=negative</td>\n",
       "    </tr>\n",
       "    <tr>\n",
       "      <th>8219</th>\n",
       "      <td>type=strongsubj</td>\n",
       "      <td>len=1</td>\n",
       "      <td>word1=zealously</td>\n",
       "      <td>pos1=anypos</td>\n",
       "      <td>stemmed1=n</td>\n",
       "      <td>priorpolarity=negative</td>\n",
       "    </tr>\n",
       "    <tr>\n",
       "      <th>8220</th>\n",
       "      <td>type=strongsubj</td>\n",
       "      <td>len=1</td>\n",
       "      <td>word1=zenith</td>\n",
       "      <td>pos1=noun</td>\n",
       "      <td>stemmed1=n</td>\n",
       "      <td>priorpolarity=positive</td>\n",
       "    </tr>\n",
       "    <tr>\n",
       "      <th>8221</th>\n",
       "      <td>type=strongsubj</td>\n",
       "      <td>len=1</td>\n",
       "      <td>word1=zest</td>\n",
       "      <td>pos1=noun</td>\n",
       "      <td>stemmed1=n</td>\n",
       "      <td>priorpolarity=positive</td>\n",
       "    </tr>\n",
       "  </tbody>\n",
       "</table>\n",
       "</div>"
      ],
      "text/plain": [
       "                    0      1                2            3           4  \\\n",
       "8217  type=strongsubj  len=1     word1=zealot    pos1=noun  stemmed1=n   \n",
       "8218  type=strongsubj  len=1    word1=zealous     pos1=adj  stemmed1=n   \n",
       "8219  type=strongsubj  len=1  word1=zealously  pos1=anypos  stemmed1=n   \n",
       "8220  type=strongsubj  len=1     word1=zenith    pos1=noun  stemmed1=n   \n",
       "8221  type=strongsubj  len=1       word1=zest    pos1=noun  stemmed1=n   \n",
       "\n",
       "                           5  \n",
       "8217  priorpolarity=negative  \n",
       "8218  priorpolarity=negative  \n",
       "8219  priorpolarity=negative  \n",
       "8220  priorpolarity=positive  \n",
       "8221  priorpolarity=positive  "
      ]
     },
     "execution_count": 30,
     "metadata": {},
     "output_type": "execute_result"
    }
   ],
   "source": [
    "lexicon_file.tail()"
   ]
  },
  {
   "cell_type": "code",
   "execution_count": 119,
   "metadata": {
    "collapsed": true
   },
   "outputs": [
    {
     "ename": "IndexError",
     "evalue": "list index out of range",
     "output_type": "error",
     "traceback": [
      "\u001b[0;31m---------------------------------------------------------------------------\u001b[0m",
      "\u001b[0;31mIndexError\u001b[0m                                Traceback (most recent call last)",
      "\u001b[0;32m<ipython-input-119-6cbcf66b6f01>\u001b[0m in \u001b[0;36m<module>\u001b[0;34m()\u001b[0m\n\u001b[1;32m      3\u001b[0m \u001b[0mi\u001b[0m\u001b[0;34m=\u001b[0m\u001b[0;36m5\u001b[0m\u001b[0;34m\u001b[0m\u001b[0m\n\u001b[1;32m      4\u001b[0m \u001b[0;32mfor\u001b[0m \u001b[0mword\u001b[0m \u001b[0;32min\u001b[0m \u001b[0mlexicon_file\u001b[0m\u001b[0;34m[\u001b[0m\u001b[0mi\u001b[0m\u001b[0;34m]\u001b[0m\u001b[0;34m:\u001b[0m\u001b[0;34m\u001b[0m\u001b[0m\n\u001b[0;32m----> 5\u001b[0;31m     \u001b[0mlexicon_file\u001b[0m\u001b[0;34m.\u001b[0m\u001b[0miloc\u001b[0m\u001b[0;34m[\u001b[0m\u001b[0mcount\u001b[0m\u001b[0;34m]\u001b[0m\u001b[0;34m[\u001b[0m\u001b[0mi\u001b[0m\u001b[0;34m]\u001b[0m \u001b[0;34m=\u001b[0m \u001b[0;34m(\u001b[0m\u001b[0mword\u001b[0m\u001b[0;34m.\u001b[0m\u001b[0msplit\u001b[0m\u001b[0;34m(\u001b[0m\u001b[0;34m'='\u001b[0m\u001b[0;34m)\u001b[0m\u001b[0;34m[\u001b[0m\u001b[0;36m1\u001b[0m\u001b[0;34m]\u001b[0m\u001b[0;34m)\u001b[0m\u001b[0;34m\u001b[0m\u001b[0m\n\u001b[0m\u001b[1;32m      6\u001b[0m     \u001b[0mcount\u001b[0m\u001b[0;34m=\u001b[0m \u001b[0mcount\u001b[0m\u001b[0;34m+\u001b[0m\u001b[0;36m1\u001b[0m\u001b[0;34m\u001b[0m\u001b[0m\n",
      "\u001b[0;31mIndexError\u001b[0m: list index out of range"
     ]
    }
   ],
   "source": [
    "# Cleaning of data\n",
    "count=0\n",
    "i=5\n",
    "for word in lexicon_file[i]:\n",
    "    lexicon_file.iloc[count][i] = (word.split('=')[1])\n",
    "    count= count+1"
   ]
  },
  {
   "cell_type": "code",
   "execution_count": 43,
   "metadata": {
    "collapsed": false,
    "scrolled": true
   },
   "outputs": [],
   "source": [
    "word = {\"abase\",\"zealot\"}\n",
    "word2 = lexicon_file[2]\n",
    "#print(word2)\n",
    "ar = []\n",
    "for w in word2:\n",
    "    ar.append(w)\n",
    "#ar\n"
   ]
  },
  {
   "cell_type": "code",
   "execution_count": 162,
   "metadata": {
    "collapsed": false,
    "scrolled": true
   },
   "outputs": [],
   "source": [
    "for w in lexicon_file[2]:\n",
    "    if w in word:\n",
    "        index = w\n",
    "        lexicon_file[lexicon_file[2]==index]\n"
   ]
  },
  {
   "cell_type": "code",
   "execution_count": 45,
   "metadata": {
    "collapsed": false
   },
   "outputs": [],
   "source": [
    "word1=\"zest\"\n",
    "if word1 in lexicon_file[2]:\n",
    "    print(word1)"
   ]
  },
  {
   "cell_type": "code",
   "execution_count": 130,
   "metadata": {
    "collapsed": false
   },
   "outputs": [
    {
     "name": "stdout",
     "output_type": "stream",
     "text": [
      "abandonment\n"
     ]
    }
   ],
   "source": [
    "    feature[(w,pos)]=final_value.split()[1]"
   ]
  },
  {
   "cell_type": "code",
   "execution_count": null,
   "metadata": {
    "collapsed": true
   },
   "outputs": [],
   "source": [
    "# FINAL DICTIONARY FOR SUBJECTIVITY\n",
    "features = {}\n",
    "for w in range(0,len(lexicon_file_matrix)):\n",
    "    word = lexicon_file_matrix[w][2]\n",
    "    subjectivity = lexicon_file_matrix[w][0]\n",
    "    pos = lexicon_file_matrix[w][3]\n",
    "    polarity = lexicon_file_matrix[w][5]\n",
    "    value = subjectivity+polarity\n",
    "#    print(word+\" \"+pos+\" \"+polarity+\" \"+value)\n",
    "    features[(word,pos)]=value\n"
   ]
  },
  {
   "cell_type": "markdown",
   "metadata": {},
   "source": [
    "## FUNCTION FOR MPQA SUBJECTIVITY"
   ]
  },
  {
   "cell_type": "code",
   "execution_count": 13,
   "metadata": {
    "collapsed": true
   },
   "outputs": [
    {
     "ename": "IndexError",
     "evalue": "single positional indexer is out-of-bounds",
     "output_type": "error",
     "traceback": [
      "\u001b[0;31m---------------------------------------------------------------------------\u001b[0m",
      "\u001b[0;31mIndexError\u001b[0m                                Traceback (most recent call last)",
      "\u001b[0;32m<ipython-input-13-3975fc9eb450>\u001b[0m in \u001b[0;36m<module>\u001b[0;34m()\u001b[0m\n\u001b[1;32m     10\u001b[0m \u001b[0;32mfor\u001b[0m \u001b[0mi\u001b[0m \u001b[0;32min\u001b[0m \u001b[0mrange\u001b[0m\u001b[0;34m(\u001b[0m\u001b[0;36m0\u001b[0m\u001b[0;34m,\u001b[0m\u001b[0;36m5\u001b[0m\u001b[0;34m)\u001b[0m\u001b[0;34m:\u001b[0m\u001b[0;34m\u001b[0m\u001b[0m\n\u001b[1;32m     11\u001b[0m     \u001b[0;32mfor\u001b[0m \u001b[0mword\u001b[0m \u001b[0;32min\u001b[0m \u001b[0mlexicon_file\u001b[0m\u001b[0;34m[\u001b[0m\u001b[0mi\u001b[0m\u001b[0;34m]\u001b[0m\u001b[0;34m:\u001b[0m\u001b[0;34m\u001b[0m\u001b[0m\n\u001b[0;32m---> 12\u001b[0;31m         \u001b[0mlexicon_file\u001b[0m\u001b[0;34m.\u001b[0m\u001b[0miloc\u001b[0m\u001b[0;34m[\u001b[0m\u001b[0mcount\u001b[0m\u001b[0;34m]\u001b[0m\u001b[0;34m[\u001b[0m\u001b[0mi\u001b[0m\u001b[0;34m]\u001b[0m \u001b[0;34m=\u001b[0m \u001b[0;34m(\u001b[0m\u001b[0mword\u001b[0m\u001b[0;34m.\u001b[0m\u001b[0msplit\u001b[0m\u001b[0;34m(\u001b[0m\u001b[0;34m'='\u001b[0m\u001b[0;34m)\u001b[0m\u001b[0;34m[\u001b[0m\u001b[0;36m1\u001b[0m\u001b[0;34m]\u001b[0m\u001b[0;34m)\u001b[0m\u001b[0;34m\u001b[0m\u001b[0m\n\u001b[0m\u001b[1;32m     13\u001b[0m         \u001b[0mcount\u001b[0m\u001b[0;34m=\u001b[0m \u001b[0mcount\u001b[0m\u001b[0;34m+\u001b[0m\u001b[0;36m1\u001b[0m\u001b[0;34m\u001b[0m\u001b[0m\n\u001b[1;32m     14\u001b[0m \u001b[0;34m\u001b[0m\u001b[0m\n",
      "\u001b[0;32m/Users/Abhishek/anaconda/lib/python3.5/site-packages/pandas/core/indexing.py\u001b[0m in \u001b[0;36m__getitem__\u001b[0;34m(self, key)\u001b[0m\n\u001b[1;32m   1294\u001b[0m             \u001b[0;32mreturn\u001b[0m \u001b[0mself\u001b[0m\u001b[0;34m.\u001b[0m\u001b[0m_getitem_tuple\u001b[0m\u001b[0;34m(\u001b[0m\u001b[0mkey\u001b[0m\u001b[0;34m)\u001b[0m\u001b[0;34m\u001b[0m\u001b[0m\n\u001b[1;32m   1295\u001b[0m         \u001b[0;32melse\u001b[0m\u001b[0;34m:\u001b[0m\u001b[0;34m\u001b[0m\u001b[0m\n\u001b[0;32m-> 1296\u001b[0;31m             \u001b[0;32mreturn\u001b[0m \u001b[0mself\u001b[0m\u001b[0;34m.\u001b[0m\u001b[0m_getitem_axis\u001b[0m\u001b[0;34m(\u001b[0m\u001b[0mkey\u001b[0m\u001b[0;34m,\u001b[0m \u001b[0maxis\u001b[0m\u001b[0;34m=\u001b[0m\u001b[0;36m0\u001b[0m\u001b[0;34m)\u001b[0m\u001b[0;34m\u001b[0m\u001b[0m\n\u001b[0m\u001b[1;32m   1297\u001b[0m \u001b[0;34m\u001b[0m\u001b[0m\n\u001b[1;32m   1298\u001b[0m     \u001b[0;32mdef\u001b[0m \u001b[0m_getitem_axis\u001b[0m\u001b[0;34m(\u001b[0m\u001b[0mself\u001b[0m\u001b[0;34m,\u001b[0m \u001b[0mkey\u001b[0m\u001b[0;34m,\u001b[0m \u001b[0maxis\u001b[0m\u001b[0;34m=\u001b[0m\u001b[0;36m0\u001b[0m\u001b[0;34m)\u001b[0m\u001b[0;34m:\u001b[0m\u001b[0;34m\u001b[0m\u001b[0m\n",
      "\u001b[0;32m/Users/Abhishek/anaconda/lib/python3.5/site-packages/pandas/core/indexing.py\u001b[0m in \u001b[0;36m_getitem_axis\u001b[0;34m(self, key, axis)\u001b[0m\n\u001b[1;32m   1610\u001b[0m \u001b[0;34m\u001b[0m\u001b[0m\n\u001b[1;32m   1611\u001b[0m                 \u001b[0;31m# validate the location\u001b[0m\u001b[0;34m\u001b[0m\u001b[0;34m\u001b[0m\u001b[0m\n\u001b[0;32m-> 1612\u001b[0;31m                 \u001b[0mself\u001b[0m\u001b[0;34m.\u001b[0m\u001b[0m_is_valid_integer\u001b[0m\u001b[0;34m(\u001b[0m\u001b[0mkey\u001b[0m\u001b[0;34m,\u001b[0m \u001b[0maxis\u001b[0m\u001b[0;34m)\u001b[0m\u001b[0;34m\u001b[0m\u001b[0m\n\u001b[0m\u001b[1;32m   1613\u001b[0m \u001b[0;34m\u001b[0m\u001b[0m\n\u001b[1;32m   1614\u001b[0m             \u001b[0;32mreturn\u001b[0m \u001b[0mself\u001b[0m\u001b[0;34m.\u001b[0m\u001b[0m_get_loc\u001b[0m\u001b[0;34m(\u001b[0m\u001b[0mkey\u001b[0m\u001b[0;34m,\u001b[0m \u001b[0maxis\u001b[0m\u001b[0;34m=\u001b[0m\u001b[0maxis\u001b[0m\u001b[0;34m)\u001b[0m\u001b[0;34m\u001b[0m\u001b[0m\n",
      "\u001b[0;32m/Users/Abhishek/anaconda/lib/python3.5/site-packages/pandas/core/indexing.py\u001b[0m in \u001b[0;36m_is_valid_integer\u001b[0;34m(self, key, axis)\u001b[0m\n\u001b[1;32m   1524\u001b[0m         \u001b[0ml\u001b[0m \u001b[0;34m=\u001b[0m \u001b[0mlen\u001b[0m\u001b[0;34m(\u001b[0m\u001b[0max\u001b[0m\u001b[0;34m)\u001b[0m\u001b[0;34m\u001b[0m\u001b[0m\n\u001b[1;32m   1525\u001b[0m         \u001b[0;32mif\u001b[0m \u001b[0mkey\u001b[0m \u001b[0;34m>=\u001b[0m \u001b[0ml\u001b[0m \u001b[0;32mor\u001b[0m \u001b[0mkey\u001b[0m \u001b[0;34m<\u001b[0m \u001b[0;34m-\u001b[0m\u001b[0ml\u001b[0m\u001b[0;34m:\u001b[0m\u001b[0;34m\u001b[0m\u001b[0m\n\u001b[0;32m-> 1526\u001b[0;31m             \u001b[0;32mraise\u001b[0m \u001b[0mIndexError\u001b[0m\u001b[0;34m(\u001b[0m\u001b[0;34m\"single positional indexer is out-of-bounds\"\u001b[0m\u001b[0;34m)\u001b[0m\u001b[0;34m\u001b[0m\u001b[0m\n\u001b[0m\u001b[1;32m   1527\u001b[0m         \u001b[0;32mreturn\u001b[0m \u001b[0;32mTrue\u001b[0m\u001b[0;34m\u001b[0m\u001b[0m\n\u001b[1;32m   1528\u001b[0m \u001b[0;34m\u001b[0m\u001b[0m\n",
      "\u001b[0;31mIndexError\u001b[0m: single positional indexer is out-of-bounds"
     ]
    }
   ],
   "source": [
    "import pandas as pd\n",
    "import numpy as np\n",
    "import nltk\n",
    "\n",
    "# Importing subjectivity lexicon\n",
    "lexicon_file= pd.read_table(\"/Users/Abhishek/Library/Mobile Documents/com~apple~CloudDocs/IU/Sem 3/Computation and Linguistics/Final Project/subjectivity_clues_hltemnlp05/sentiment.tff\", header = None, sep=\" \")\n",
    "\n",
    "# Cleaning of data\n",
    "count=0\n",
    "for i in range(0,5):\n",
    "    for word in lexicon_file[i]:\n",
    "        lexicon_file.iloc[count][i] = (word.split('=')[1])\n",
    "        count= count+1\n",
    "\n",
    "# Converting dataframe to matrix\n",
    "type(lexicon_file)\n",
    "lexicon_file_matrix = lexicon_file.as_matrix()      \n",
    "\n",
    "# Creating words as keys\n",
    "word2 = lexicon_file[2]\n",
    "#print(word2)\n",
    "ar = []\n",
    "for w in word2:\n",
    "    ar.append(w)\n",
    "    \n",
    "# FINAL DICTIONARY FOR SUBJECTIVITY\n",
    "features = {}\n",
    "for w in range(0,len(lexicon_file_matrix)):\n",
    "    word = lexicon_file_matrix[w][2]\n",
    "    subjectivity = lexicon_file_matrix[w][0]\n",
    "    pos = lexicon_file_matrix[w][3]\n",
    "    polarity = lexicon_file_matrix[w][5]\n",
    "    value = subjectivity+polarity\n",
    "#    print(word+\" \"+pos+\" \"+polarity+\" \"+value)\n",
    "    features[(word,pos)]=value\n",
    "\n"
   ]
  },
  {
   "cell_type": "code",
   "execution_count": 14,
   "metadata": {
    "collapsed": true
   },
   "outputs": [
    {
     "ename": "AttributeError",
     "evalue": "'list' object has no attribute 'apply'",
     "output_type": "error",
     "traceback": [
      "\u001b[0;31m---------------------------------------------------------------------------\u001b[0m",
      "\u001b[0;31mAttributeError\u001b[0m                            Traceback (most recent call last)",
      "\u001b[0;32m<ipython-input-14-a5bca324fcad>\u001b[0m in \u001b[0;36m<module>\u001b[0;34m()\u001b[0m\n\u001b[1;32m     53\u001b[0m     \u001b[0mmpqa8\u001b[0m \u001b[0;34m=\u001b[0m \u001b[0mmpqa_counts\u001b[0m\u001b[0;34m.\u001b[0m\u001b[0mapply\u001b[0m\u001b[0;34m(\u001b[0m\u001b[0;32mlambda\u001b[0m \u001b[0ma\u001b[0m\u001b[0;34m:\u001b[0m \u001b[0ma\u001b[0m\u001b[0;34m[\u001b[0m\u001b[0;36m8\u001b[0m\u001b[0;34m]\u001b[0m\u001b[0;34m)\u001b[0m\u001b[0;34m\u001b[0m\u001b[0m\n\u001b[1;32m     54\u001b[0m \u001b[0;34m\u001b[0m\u001b[0m\n\u001b[0;32m---> 55\u001b[0;31m \u001b[0mmpqa_features\u001b[0m\u001b[0;34m(\u001b[0m\u001b[0mpos_tagged\u001b[0m\u001b[0;34m)\u001b[0m\u001b[0;34m\u001b[0m\u001b[0m\n\u001b[0m",
      "\u001b[0;32m<ipython-input-14-a5bca324fcad>\u001b[0m in \u001b[0;36mmpqa_features\u001b[0;34m(pos_tagged)\u001b[0m\n\u001b[1;32m     43\u001b[0m         \u001b[0;32mreturn\u001b[0m \u001b[0mcount\u001b[0m\u001b[0;34m\u001b[0m\u001b[0m\n\u001b[1;32m     44\u001b[0m \u001b[0;34m\u001b[0m\u001b[0m\n\u001b[0;32m---> 45\u001b[0;31m     \u001b[0mmpqa_counts\u001b[0m \u001b[0;34m=\u001b[0m \u001b[0mpos_tagged\u001b[0m\u001b[0;34m.\u001b[0m\u001b[0mapply\u001b[0m\u001b[0;34m(\u001b[0m\u001b[0;32mlambda\u001b[0m \u001b[0ma\u001b[0m\u001b[0;34m:\u001b[0m \u001b[0mmpqa_count\u001b[0m\u001b[0;34m(\u001b[0m\u001b[0ma\u001b[0m\u001b[0;34m)\u001b[0m\u001b[0;34m)\u001b[0m\u001b[0;34m\u001b[0m\u001b[0m\n\u001b[0m\u001b[1;32m     46\u001b[0m     \u001b[0mmpqa1\u001b[0m \u001b[0;34m=\u001b[0m \u001b[0mmpqa_counts\u001b[0m\u001b[0;34m.\u001b[0m\u001b[0mapply\u001b[0m\u001b[0;34m(\u001b[0m\u001b[0;32mlambda\u001b[0m \u001b[0ma\u001b[0m\u001b[0;34m:\u001b[0m \u001b[0ma\u001b[0m\u001b[0;34m[\u001b[0m\u001b[0;36m1\u001b[0m\u001b[0;34m]\u001b[0m\u001b[0;34m)\u001b[0m\u001b[0;34m\u001b[0m\u001b[0m\n\u001b[1;32m     47\u001b[0m     \u001b[0mmpqa2\u001b[0m \u001b[0;34m=\u001b[0m \u001b[0mmpqa_counts\u001b[0m\u001b[0;34m.\u001b[0m\u001b[0mapply\u001b[0m\u001b[0;34m(\u001b[0m\u001b[0;32mlambda\u001b[0m \u001b[0ma\u001b[0m\u001b[0;34m:\u001b[0m \u001b[0ma\u001b[0m\u001b[0;34m[\u001b[0m\u001b[0;36m2\u001b[0m\u001b[0;34m]\u001b[0m\u001b[0;34m)\u001b[0m\u001b[0;34m\u001b[0m\u001b[0m\n",
      "\u001b[0;31mAttributeError\u001b[0m: 'list' object has no attribute 'apply'"
     ]
    }
   ],
   "source": [
    "pos_tagged= [(\"welcome\",\"noun\"),(\"welcome\",\"anypos\")]\n",
    "\n",
    "def mpqa_features(pos_tagged):\n",
    "    def mpqa_count(pos_tagged):\n",
    "        count = {}\n",
    "        count[\"strongsubjpositive\"]=0\n",
    "        count[\"strongsubjnegative\"]=0\n",
    "        count[\"strongsubjboth\"]=0\n",
    "        count[\"strongsubjneutral\"]=0\n",
    "        count[\"weaksubjboth\"]=0\n",
    "        count[\"weaksubjnegative\"]=0\n",
    "        count[\"weaksubjneutral\"]=0\n",
    "        count[\"weaksubjpositive\"]=0\n",
    "        count=[0,0,0,0,0,0,0,0]\n",
    "\n",
    "        for word,pos in pos_tagged:\n",
    "            subjectivity = features[(word,pos)]\n",
    "            print(subjectivity)\n",
    "            if subjectivity==\"strongsubjpositive\":\n",
    "                count[0]=count[0]+1\n",
    "\n",
    "            elif subjectivity==\"strongsubjnegative\":\n",
    "                count[1]+=1\n",
    "\n",
    "            elif subjectivity==\"strongsubjboth\":\n",
    "                count[2]+=1\n",
    "\n",
    "            elif subjectivity==\"strongsubjneutral\":\n",
    "                count[3]+=1\n",
    "\n",
    "            elif subjectivity==\"weaksubjboth\":\n",
    "                count[4]+=1\n",
    "\n",
    "            elif subjectivity==\"weaksubjnegative\":\n",
    "                count[5]+=1\n",
    "\n",
    "            elif subjectivity==\"weaksubjneutral\":\n",
    "                count[6]+=1\n",
    "\n",
    "            elif subjectivity==\"weaksubjpositive\":\n",
    "                count[7]+=1\n",
    "\n",
    "        return count\n",
    "    \n",
    "    mpqa_counts = pos_tagged.apply(lambda a: mpqa_count(a))\n",
    "    mpqa1 = mpqa_counts.apply(lambda a: a[1])\n",
    "    mpqa2 = mpqa_counts.apply(lambda a: a[2])\n",
    "    mpqa3 = mpqa_counts.apply(lambda a: a[3])\n",
    "    mpqa4 = mpqa_counts.apply(lambda a: a[4])\n",
    "    mpqa5 = mpqa_counts.apply(lambda a: a[5])\n",
    "    mpqa6 = mpqa_counts.apply(lambda a: a[6])\n",
    "    mpqa7 = mpqa_counts.apply(lambda a: a[7])\n",
    "    mpqa8 = mpqa_counts.apply(lambda a: a[8])\n",
    "\n",
    "mpqa_features(pos_tagged)"
   ]
  },
  {
   "cell_type": "markdown",
   "metadata": {},
   "source": [
    "## ROUGH"
   ]
  },
  {
   "cell_type": "code",
   "execution_count": 220,
   "metadata": {
    "collapsed": false
   },
   "outputs": [
    {
     "name": "stdout",
     "output_type": "stream",
     "text": [
      "blah\n"
     ]
    }
   ],
   "source": [
    "for word,pos in pos_tagged:\n",
    "    subjectivity =\"blah\"\n",
    "\n",
    "print(subjectivity)"
   ]
  },
  {
   "cell_type": "code",
   "execution_count": 26,
   "metadata": {
    "collapsed": false
   },
   "outputs": [],
   "source": [
    "# Cleaning of data\n",
    "count=0\n",
    "i=5\n",
    "for word in lexicon_file[i]:\n",
    "    lexicon_file.iloc[count][i] = (word.split('=')[1])\n",
    "    count= count+1\n"
   ]
  },
  {
   "cell_type": "code",
   "execution_count": 27,
   "metadata": {
    "collapsed": false,
    "scrolled": true
   },
   "outputs": [
    {
     "data": {
      "text/html": [
       "<div>\n",
       "<table border=\"1\" class=\"dataframe\">\n",
       "  <thead>\n",
       "    <tr style=\"text-align: right;\">\n",
       "      <th></th>\n",
       "      <th>0</th>\n",
       "      <th>1</th>\n",
       "      <th>2</th>\n",
       "      <th>3</th>\n",
       "      <th>4</th>\n",
       "      <th>5</th>\n",
       "    </tr>\n",
       "  </thead>\n",
       "  <tbody>\n",
       "    <tr>\n",
       "      <th>0</th>\n",
       "      <td>weaksubj</td>\n",
       "      <td>1</td>\n",
       "      <td>abandoned</td>\n",
       "      <td>adj</td>\n",
       "      <td>n</td>\n",
       "      <td>negative</td>\n",
       "    </tr>\n",
       "    <tr>\n",
       "      <th>1</th>\n",
       "      <td>weaksubj</td>\n",
       "      <td>1</td>\n",
       "      <td>abandonment</td>\n",
       "      <td>noun</td>\n",
       "      <td>n</td>\n",
       "      <td>negative</td>\n",
       "    </tr>\n",
       "    <tr>\n",
       "      <th>2</th>\n",
       "      <td>weaksubj</td>\n",
       "      <td>1</td>\n",
       "      <td>abandon</td>\n",
       "      <td>verb</td>\n",
       "      <td>y</td>\n",
       "      <td>negative</td>\n",
       "    </tr>\n",
       "    <tr>\n",
       "      <th>3</th>\n",
       "      <td>strongsubj</td>\n",
       "      <td>1</td>\n",
       "      <td>abase</td>\n",
       "      <td>verb</td>\n",
       "      <td>y</td>\n",
       "      <td>negative</td>\n",
       "    </tr>\n",
       "    <tr>\n",
       "      <th>4</th>\n",
       "      <td>strongsubj</td>\n",
       "      <td>1</td>\n",
       "      <td>abasement</td>\n",
       "      <td>anypos</td>\n",
       "      <td>y</td>\n",
       "      <td>negative</td>\n",
       "    </tr>\n",
       "    <tr>\n",
       "      <th>5</th>\n",
       "      <td>strongsubj</td>\n",
       "      <td>1</td>\n",
       "      <td>abash</td>\n",
       "      <td>verb</td>\n",
       "      <td>y</td>\n",
       "      <td>negative</td>\n",
       "    </tr>\n",
       "    <tr>\n",
       "      <th>6</th>\n",
       "      <td>weaksubj</td>\n",
       "      <td>1</td>\n",
       "      <td>abate</td>\n",
       "      <td>verb</td>\n",
       "      <td>y</td>\n",
       "      <td>negative</td>\n",
       "    </tr>\n",
       "    <tr>\n",
       "      <th>7</th>\n",
       "      <td>weaksubj</td>\n",
       "      <td>1</td>\n",
       "      <td>abdicate</td>\n",
       "      <td>verb</td>\n",
       "      <td>y</td>\n",
       "      <td>negative</td>\n",
       "    </tr>\n",
       "    <tr>\n",
       "      <th>8</th>\n",
       "      <td>strongsubj</td>\n",
       "      <td>1</td>\n",
       "      <td>aberration</td>\n",
       "      <td>adj</td>\n",
       "      <td>n</td>\n",
       "      <td>negative</td>\n",
       "    </tr>\n",
       "    <tr>\n",
       "      <th>9</th>\n",
       "      <td>strongsubj</td>\n",
       "      <td>1</td>\n",
       "      <td>aberration</td>\n",
       "      <td>noun</td>\n",
       "      <td>n</td>\n",
       "      <td>negative</td>\n",
       "    </tr>\n",
       "    <tr>\n",
       "      <th>10</th>\n",
       "      <td>strongsubj</td>\n",
       "      <td>1</td>\n",
       "      <td>abhor</td>\n",
       "      <td>anypos</td>\n",
       "      <td>y</td>\n",
       "      <td>negative</td>\n",
       "    </tr>\n",
       "    <tr>\n",
       "      <th>11</th>\n",
       "      <td>strongsubj</td>\n",
       "      <td>1</td>\n",
       "      <td>abhor</td>\n",
       "      <td>verb</td>\n",
       "      <td>y</td>\n",
       "      <td>negative</td>\n",
       "    </tr>\n",
       "    <tr>\n",
       "      <th>12</th>\n",
       "      <td>strongsubj</td>\n",
       "      <td>1</td>\n",
       "      <td>abhorred</td>\n",
       "      <td>adj</td>\n",
       "      <td>n</td>\n",
       "      <td>negative</td>\n",
       "    </tr>\n",
       "    <tr>\n",
       "      <th>13</th>\n",
       "      <td>strongsubj</td>\n",
       "      <td>1</td>\n",
       "      <td>abhorrence</td>\n",
       "      <td>noun</td>\n",
       "      <td>n</td>\n",
       "      <td>negative</td>\n",
       "    </tr>\n",
       "    <tr>\n",
       "      <th>14</th>\n",
       "      <td>strongsubj</td>\n",
       "      <td>1</td>\n",
       "      <td>abhorrent</td>\n",
       "      <td>adj</td>\n",
       "      <td>n</td>\n",
       "      <td>negative</td>\n",
       "    </tr>\n",
       "    <tr>\n",
       "      <th>15</th>\n",
       "      <td>strongsubj</td>\n",
       "      <td>1</td>\n",
       "      <td>abhorrently</td>\n",
       "      <td>anypos</td>\n",
       "      <td>n</td>\n",
       "      <td>negative</td>\n",
       "    </tr>\n",
       "    <tr>\n",
       "      <th>16</th>\n",
       "      <td>strongsubj</td>\n",
       "      <td>1</td>\n",
       "      <td>abhors</td>\n",
       "      <td>adj</td>\n",
       "      <td>n</td>\n",
       "      <td>negative</td>\n",
       "    </tr>\n",
       "    <tr>\n",
       "      <th>17</th>\n",
       "      <td>strongsubj</td>\n",
       "      <td>1</td>\n",
       "      <td>abhors</td>\n",
       "      <td>noun</td>\n",
       "      <td>n</td>\n",
       "      <td>negative</td>\n",
       "    </tr>\n",
       "    <tr>\n",
       "      <th>18</th>\n",
       "      <td>strongsubj</td>\n",
       "      <td>1</td>\n",
       "      <td>abidance</td>\n",
       "      <td>adj</td>\n",
       "      <td>n</td>\n",
       "      <td>positive</td>\n",
       "    </tr>\n",
       "    <tr>\n",
       "      <th>19</th>\n",
       "      <td>strongsubj</td>\n",
       "      <td>1</td>\n",
       "      <td>abidance</td>\n",
       "      <td>noun</td>\n",
       "      <td>n</td>\n",
       "      <td>positive</td>\n",
       "    </tr>\n",
       "    <tr>\n",
       "      <th>20</th>\n",
       "      <td>strongsubj</td>\n",
       "      <td>1</td>\n",
       "      <td>abide</td>\n",
       "      <td>anypos</td>\n",
       "      <td>y</td>\n",
       "      <td>positive</td>\n",
       "    </tr>\n",
       "    <tr>\n",
       "      <th>21</th>\n",
       "      <td>strongsubj</td>\n",
       "      <td>1</td>\n",
       "      <td>abject</td>\n",
       "      <td>adj</td>\n",
       "      <td>n</td>\n",
       "      <td>negative</td>\n",
       "    </tr>\n",
       "    <tr>\n",
       "      <th>22</th>\n",
       "      <td>strongsubj</td>\n",
       "      <td>1</td>\n",
       "      <td>abjectly</td>\n",
       "      <td>adverb</td>\n",
       "      <td>n</td>\n",
       "      <td>negative</td>\n",
       "    </tr>\n",
       "    <tr>\n",
       "      <th>23</th>\n",
       "      <td>weaksubj</td>\n",
       "      <td>1</td>\n",
       "      <td>abjure</td>\n",
       "      <td>verb</td>\n",
       "      <td>y</td>\n",
       "      <td>negative</td>\n",
       "    </tr>\n",
       "    <tr>\n",
       "      <th>24</th>\n",
       "      <td>weaksubj</td>\n",
       "      <td>1</td>\n",
       "      <td>abilities</td>\n",
       "      <td>noun</td>\n",
       "      <td>n</td>\n",
       "      <td>positive</td>\n",
       "    </tr>\n",
       "    <tr>\n",
       "      <th>25</th>\n",
       "      <td>weaksubj</td>\n",
       "      <td>1</td>\n",
       "      <td>ability</td>\n",
       "      <td>noun</td>\n",
       "      <td>n</td>\n",
       "      <td>positive</td>\n",
       "    </tr>\n",
       "    <tr>\n",
       "      <th>26</th>\n",
       "      <td>weaksubj</td>\n",
       "      <td>1</td>\n",
       "      <td>able</td>\n",
       "      <td>adj</td>\n",
       "      <td>n</td>\n",
       "      <td>positive</td>\n",
       "    </tr>\n",
       "    <tr>\n",
       "      <th>27</th>\n",
       "      <td>weaksubj</td>\n",
       "      <td>1</td>\n",
       "      <td>abnormal</td>\n",
       "      <td>adj</td>\n",
       "      <td>n</td>\n",
       "      <td>negative</td>\n",
       "    </tr>\n",
       "    <tr>\n",
       "      <th>28</th>\n",
       "      <td>weaksubj</td>\n",
       "      <td>1</td>\n",
       "      <td>abolish</td>\n",
       "      <td>verb</td>\n",
       "      <td>y</td>\n",
       "      <td>negative</td>\n",
       "    </tr>\n",
       "    <tr>\n",
       "      <th>29</th>\n",
       "      <td>strongsubj</td>\n",
       "      <td>1</td>\n",
       "      <td>abominable</td>\n",
       "      <td>adj</td>\n",
       "      <td>n</td>\n",
       "      <td>negative</td>\n",
       "    </tr>\n",
       "    <tr>\n",
       "      <th>...</th>\n",
       "      <td>...</td>\n",
       "      <td>...</td>\n",
       "      <td>...</td>\n",
       "      <td>...</td>\n",
       "      <td>...</td>\n",
       "      <td>...</td>\n",
       "    </tr>\n",
       "    <tr>\n",
       "      <th>8192</th>\n",
       "      <td>strongsubj</td>\n",
       "      <td>1</td>\n",
       "      <td>wrest</td>\n",
       "      <td>verb</td>\n",
       "      <td>y</td>\n",
       "      <td>negative</td>\n",
       "    </tr>\n",
       "    <tr>\n",
       "      <th>8193</th>\n",
       "      <td>weaksubj</td>\n",
       "      <td>1</td>\n",
       "      <td>wrestle</td>\n",
       "      <td>verb</td>\n",
       "      <td>y</td>\n",
       "      <td>negative</td>\n",
       "    </tr>\n",
       "    <tr>\n",
       "      <th>8194</th>\n",
       "      <td>strongsubj</td>\n",
       "      <td>1</td>\n",
       "      <td>wretch</td>\n",
       "      <td>noun</td>\n",
       "      <td>n</td>\n",
       "      <td>negative</td>\n",
       "    </tr>\n",
       "    <tr>\n",
       "      <th>8195</th>\n",
       "      <td>strongsubj</td>\n",
       "      <td>1</td>\n",
       "      <td>wretched</td>\n",
       "      <td>adj</td>\n",
       "      <td>n</td>\n",
       "      <td>negative</td>\n",
       "    </tr>\n",
       "    <tr>\n",
       "      <th>8196</th>\n",
       "      <td>strongsubj</td>\n",
       "      <td>1</td>\n",
       "      <td>wretchedly</td>\n",
       "      <td>anypos</td>\n",
       "      <td>n</td>\n",
       "      <td>negative</td>\n",
       "    </tr>\n",
       "    <tr>\n",
       "      <th>8197</th>\n",
       "      <td>strongsubj</td>\n",
       "      <td>1</td>\n",
       "      <td>wretchedness</td>\n",
       "      <td>noun</td>\n",
       "      <td>n</td>\n",
       "      <td>negative</td>\n",
       "    </tr>\n",
       "    <tr>\n",
       "      <th>8198</th>\n",
       "      <td>weaksubj</td>\n",
       "      <td>1</td>\n",
       "      <td>writhe</td>\n",
       "      <td>verb</td>\n",
       "      <td>y</td>\n",
       "      <td>negative</td>\n",
       "    </tr>\n",
       "    <tr>\n",
       "      <th>8199</th>\n",
       "      <td>weaksubj</td>\n",
       "      <td>1</td>\n",
       "      <td>wrong</td>\n",
       "      <td>adj</td>\n",
       "      <td>n</td>\n",
       "      <td>negative</td>\n",
       "    </tr>\n",
       "    <tr>\n",
       "      <th>8200</th>\n",
       "      <td>weaksubj</td>\n",
       "      <td>1</td>\n",
       "      <td>wrong</td>\n",
       "      <td>anypos</td>\n",
       "      <td>y</td>\n",
       "      <td>negative</td>\n",
       "    </tr>\n",
       "    <tr>\n",
       "      <th>8201</th>\n",
       "      <td>weaksubj</td>\n",
       "      <td>1</td>\n",
       "      <td>wrongful</td>\n",
       "      <td>adj</td>\n",
       "      <td>n</td>\n",
       "      <td>negative</td>\n",
       "    </tr>\n",
       "    <tr>\n",
       "      <th>8202</th>\n",
       "      <td>strongsubj</td>\n",
       "      <td>1</td>\n",
       "      <td>wrongly</td>\n",
       "      <td>anypos</td>\n",
       "      <td>y</td>\n",
       "      <td>negative</td>\n",
       "    </tr>\n",
       "    <tr>\n",
       "      <th>8203</th>\n",
       "      <td>weaksubj</td>\n",
       "      <td>1</td>\n",
       "      <td>wrought</td>\n",
       "      <td>adj</td>\n",
       "      <td>n</td>\n",
       "      <td>negative</td>\n",
       "    </tr>\n",
       "    <tr>\n",
       "      <th>8204</th>\n",
       "      <td>weaksubj</td>\n",
       "      <td>1</td>\n",
       "      <td>wrought</td>\n",
       "      <td>noun</td>\n",
       "      <td>n</td>\n",
       "      <td>negative</td>\n",
       "    </tr>\n",
       "    <tr>\n",
       "      <th>8205</th>\n",
       "      <td>strongsubj</td>\n",
       "      <td>1</td>\n",
       "      <td>wry</td>\n",
       "      <td>adj</td>\n",
       "      <td>n</td>\n",
       "      <td>positive</td>\n",
       "    </tr>\n",
       "    <tr>\n",
       "      <th>8206</th>\n",
       "      <td>strongsubj</td>\n",
       "      <td>1</td>\n",
       "      <td>yawn</td>\n",
       "      <td>noun</td>\n",
       "      <td>n</td>\n",
       "      <td>negative</td>\n",
       "    </tr>\n",
       "    <tr>\n",
       "      <th>8207</th>\n",
       "      <td>strongsubj</td>\n",
       "      <td>1</td>\n",
       "      <td>yawn</td>\n",
       "      <td>verb</td>\n",
       "      <td>y</td>\n",
       "      <td>negative</td>\n",
       "    </tr>\n",
       "    <tr>\n",
       "      <th>8208</th>\n",
       "      <td>strongsubj</td>\n",
       "      <td>1</td>\n",
       "      <td>yeah</td>\n",
       "      <td>anypos</td>\n",
       "      <td>y</td>\n",
       "      <td>neutral</td>\n",
       "    </tr>\n",
       "    <tr>\n",
       "      <th>8209</th>\n",
       "      <td>strongsubj</td>\n",
       "      <td>1</td>\n",
       "      <td>yearn</td>\n",
       "      <td>verb</td>\n",
       "      <td>y</td>\n",
       "      <td>positive</td>\n",
       "    </tr>\n",
       "    <tr>\n",
       "      <th>8210</th>\n",
       "      <td>strongsubj</td>\n",
       "      <td>1</td>\n",
       "      <td>yearning</td>\n",
       "      <td>noun</td>\n",
       "      <td>n</td>\n",
       "      <td>positive</td>\n",
       "    </tr>\n",
       "    <tr>\n",
       "      <th>8211</th>\n",
       "      <td>strongsubj</td>\n",
       "      <td>1</td>\n",
       "      <td>yearningly</td>\n",
       "      <td>anypos</td>\n",
       "      <td>n</td>\n",
       "      <td>positive</td>\n",
       "    </tr>\n",
       "    <tr>\n",
       "      <th>8212</th>\n",
       "      <td>strongsubj</td>\n",
       "      <td>1</td>\n",
       "      <td>yelp</td>\n",
       "      <td>verb</td>\n",
       "      <td>y</td>\n",
       "      <td>negative</td>\n",
       "    </tr>\n",
       "    <tr>\n",
       "      <th>8213</th>\n",
       "      <td>strongsubj</td>\n",
       "      <td>1</td>\n",
       "      <td>yep</td>\n",
       "      <td>anypos</td>\n",
       "      <td>y</td>\n",
       "      <td>positive</td>\n",
       "    </tr>\n",
       "    <tr>\n",
       "      <th>8214</th>\n",
       "      <td>strongsubj</td>\n",
       "      <td>1</td>\n",
       "      <td>yes</td>\n",
       "      <td>anypos</td>\n",
       "      <td>y</td>\n",
       "      <td>positive</td>\n",
       "    </tr>\n",
       "    <tr>\n",
       "      <th>8215</th>\n",
       "      <td>weaksubj</td>\n",
       "      <td>1</td>\n",
       "      <td>youthful</td>\n",
       "      <td>adj</td>\n",
       "      <td>n</td>\n",
       "      <td>positive</td>\n",
       "    </tr>\n",
       "    <tr>\n",
       "      <th>8216</th>\n",
       "      <td>strongsubj</td>\n",
       "      <td>1</td>\n",
       "      <td>zeal</td>\n",
       "      <td>noun</td>\n",
       "      <td>n</td>\n",
       "      <td>positive</td>\n",
       "    </tr>\n",
       "    <tr>\n",
       "      <th>8217</th>\n",
       "      <td>strongsubj</td>\n",
       "      <td>1</td>\n",
       "      <td>zealot</td>\n",
       "      <td>noun</td>\n",
       "      <td>n</td>\n",
       "      <td>negative</td>\n",
       "    </tr>\n",
       "    <tr>\n",
       "      <th>8218</th>\n",
       "      <td>strongsubj</td>\n",
       "      <td>1</td>\n",
       "      <td>zealous</td>\n",
       "      <td>adj</td>\n",
       "      <td>n</td>\n",
       "      <td>negative</td>\n",
       "    </tr>\n",
       "    <tr>\n",
       "      <th>8219</th>\n",
       "      <td>strongsubj</td>\n",
       "      <td>1</td>\n",
       "      <td>zealously</td>\n",
       "      <td>anypos</td>\n",
       "      <td>n</td>\n",
       "      <td>negative</td>\n",
       "    </tr>\n",
       "    <tr>\n",
       "      <th>8220</th>\n",
       "      <td>strongsubj</td>\n",
       "      <td>1</td>\n",
       "      <td>zenith</td>\n",
       "      <td>noun</td>\n",
       "      <td>n</td>\n",
       "      <td>positive</td>\n",
       "    </tr>\n",
       "    <tr>\n",
       "      <th>8221</th>\n",
       "      <td>strongsubj</td>\n",
       "      <td>1</td>\n",
       "      <td>zest</td>\n",
       "      <td>noun</td>\n",
       "      <td>n</td>\n",
       "      <td>positive</td>\n",
       "    </tr>\n",
       "  </tbody>\n",
       "</table>\n",
       "<p>8222 rows × 6 columns</p>\n",
       "</div>"
      ],
      "text/plain": [
       "               0  1             2       3  4         5\n",
       "0       weaksubj  1     abandoned     adj  n  negative\n",
       "1       weaksubj  1   abandonment    noun  n  negative\n",
       "2       weaksubj  1       abandon    verb  y  negative\n",
       "3     strongsubj  1         abase    verb  y  negative\n",
       "4     strongsubj  1     abasement  anypos  y  negative\n",
       "5     strongsubj  1         abash    verb  y  negative\n",
       "6       weaksubj  1         abate    verb  y  negative\n",
       "7       weaksubj  1      abdicate    verb  y  negative\n",
       "8     strongsubj  1    aberration     adj  n  negative\n",
       "9     strongsubj  1    aberration    noun  n  negative\n",
       "10    strongsubj  1         abhor  anypos  y  negative\n",
       "11    strongsubj  1         abhor    verb  y  negative\n",
       "12    strongsubj  1      abhorred     adj  n  negative\n",
       "13    strongsubj  1    abhorrence    noun  n  negative\n",
       "14    strongsubj  1     abhorrent     adj  n  negative\n",
       "15    strongsubj  1   abhorrently  anypos  n  negative\n",
       "16    strongsubj  1        abhors     adj  n  negative\n",
       "17    strongsubj  1        abhors    noun  n  negative\n",
       "18    strongsubj  1      abidance     adj  n  positive\n",
       "19    strongsubj  1      abidance    noun  n  positive\n",
       "20    strongsubj  1         abide  anypos  y  positive\n",
       "21    strongsubj  1        abject     adj  n  negative\n",
       "22    strongsubj  1      abjectly  adverb  n  negative\n",
       "23      weaksubj  1        abjure    verb  y  negative\n",
       "24      weaksubj  1     abilities    noun  n  positive\n",
       "25      weaksubj  1       ability    noun  n  positive\n",
       "26      weaksubj  1          able     adj  n  positive\n",
       "27      weaksubj  1      abnormal     adj  n  negative\n",
       "28      weaksubj  1       abolish    verb  y  negative\n",
       "29    strongsubj  1    abominable     adj  n  negative\n",
       "...          ... ..           ...     ... ..       ...\n",
       "8192  strongsubj  1         wrest    verb  y  negative\n",
       "8193    weaksubj  1       wrestle    verb  y  negative\n",
       "8194  strongsubj  1        wretch    noun  n  negative\n",
       "8195  strongsubj  1      wretched     adj  n  negative\n",
       "8196  strongsubj  1    wretchedly  anypos  n  negative\n",
       "8197  strongsubj  1  wretchedness    noun  n  negative\n",
       "8198    weaksubj  1        writhe    verb  y  negative\n",
       "8199    weaksubj  1         wrong     adj  n  negative\n",
       "8200    weaksubj  1         wrong  anypos  y  negative\n",
       "8201    weaksubj  1      wrongful     adj  n  negative\n",
       "8202  strongsubj  1       wrongly  anypos  y  negative\n",
       "8203    weaksubj  1       wrought     adj  n  negative\n",
       "8204    weaksubj  1       wrought    noun  n  negative\n",
       "8205  strongsubj  1           wry     adj  n  positive\n",
       "8206  strongsubj  1          yawn    noun  n  negative\n",
       "8207  strongsubj  1          yawn    verb  y  negative\n",
       "8208  strongsubj  1          yeah  anypos  y   neutral\n",
       "8209  strongsubj  1         yearn    verb  y  positive\n",
       "8210  strongsubj  1      yearning    noun  n  positive\n",
       "8211  strongsubj  1    yearningly  anypos  n  positive\n",
       "8212  strongsubj  1          yelp    verb  y  negative\n",
       "8213  strongsubj  1           yep  anypos  y  positive\n",
       "8214  strongsubj  1           yes  anypos  y  positive\n",
       "8215    weaksubj  1      youthful     adj  n  positive\n",
       "8216  strongsubj  1          zeal    noun  n  positive\n",
       "8217  strongsubj  1        zealot    noun  n  negative\n",
       "8218  strongsubj  1       zealous     adj  n  negative\n",
       "8219  strongsubj  1     zealously  anypos  n  negative\n",
       "8220  strongsubj  1        zenith    noun  n  positive\n",
       "8221  strongsubj  1          zest    noun  n  positive\n",
       "\n",
       "[8222 rows x 6 columns]"
      ]
     },
     "execution_count": 27,
     "metadata": {},
     "output_type": "execute_result"
    }
   ],
   "source": [
    "lexicon_file"
   ]
  },
  {
   "cell_type": "code",
   "execution_count": 97,
   "metadata": {
    "collapsed": true
   },
   "outputs": [
    {
     "ename": "KeyError",
     "evalue": "('abidance', 'adj')",
     "output_type": "error",
     "traceback": [
      "\u001b[0;31m---------------------------------------------------------------------------\u001b[0m",
      "\u001b[0;31mKeyError\u001b[0m                                  Traceback (most recent call last)",
      "\u001b[0;32m<ipython-input-97-a3fd7141579c>\u001b[0m in \u001b[0;36m<module>\u001b[0;34m()\u001b[0m\n\u001b[0;32m----> 1\u001b[0;31m \u001b[0mfeature\u001b[0m\u001b[0;34m[\u001b[0m\u001b[0;34m(\u001b[0m\u001b[0;34m\"abidance\"\u001b[0m\u001b[0;34m,\u001b[0m\u001b[0;34m\"adj\"\u001b[0m\u001b[0;34m)\u001b[0m\u001b[0;34m]\u001b[0m\u001b[0;34m\u001b[0m\u001b[0m\n\u001b[0m",
      "\u001b[0;31mKeyError\u001b[0m: ('abidance', 'adj')"
     ]
    }
   ],
   "source": [
    "feature[(\"abidance\",\"adj\")]"
   ]
  },
  {
   "cell_type": "code",
   "execution_count": 173,
   "metadata": {
    "collapsed": false
   },
   "outputs": [
    {
     "name": "stdout",
     "output_type": "stream",
     "text": [
      "[['strongsubj' '1' 'abase' 'verb' 'y' 'negative']]\n",
      "[['strongsubj' '1' 'zealot' 'noun' 'n' 'negative']]\n"
     ]
    }
   ],
   "source": [
    "for w in word:\n",
    "    out = lexicon_file[lexicon_file[2]==w]\n",
    "    print(out.values)"
   ]
  },
  {
   "cell_type": "code",
   "execution_count": 49,
   "metadata": {
    "collapsed": false,
    "scrolled": true
   },
   "outputs": [
    {
     "ename": "IndexError",
     "evalue": "list index out of range",
     "output_type": "error",
     "traceback": [
      "\u001b[0;31m---------------------------------------------------------------------------\u001b[0m",
      "\u001b[0;31mIndexError\u001b[0m                                Traceback (most recent call last)",
      "\u001b[0;32m<ipython-input-49-d672cecb365f>\u001b[0m in \u001b[0;36m<module>\u001b[0;34m()\u001b[0m\n\u001b[1;32m      3\u001b[0m \u001b[0mi\u001b[0m\u001b[0;34m=\u001b[0m\u001b[0;36m5\u001b[0m\u001b[0;34m\u001b[0m\u001b[0m\n\u001b[1;32m      4\u001b[0m \u001b[0;32mfor\u001b[0m \u001b[0mword\u001b[0m \u001b[0;32min\u001b[0m \u001b[0mlexicon_file\u001b[0m\u001b[0;34m[\u001b[0m\u001b[0mi\u001b[0m\u001b[0;34m]\u001b[0m\u001b[0;34m:\u001b[0m\u001b[0;34m\u001b[0m\u001b[0m\n\u001b[0;32m----> 5\u001b[0;31m     \u001b[0mlexicon_file\u001b[0m\u001b[0;34m.\u001b[0m\u001b[0miloc\u001b[0m\u001b[0;34m[\u001b[0m\u001b[0mcount\u001b[0m\u001b[0;34m]\u001b[0m\u001b[0;34m[\u001b[0m\u001b[0mi\u001b[0m\u001b[0;34m]\u001b[0m \u001b[0;34m=\u001b[0m \u001b[0;34m(\u001b[0m\u001b[0mword\u001b[0m\u001b[0;34m.\u001b[0m\u001b[0msplit\u001b[0m\u001b[0;34m(\u001b[0m\u001b[0;34m'='\u001b[0m\u001b[0;34m)\u001b[0m\u001b[0;34m[\u001b[0m\u001b[0;36m1\u001b[0m\u001b[0;34m]\u001b[0m\u001b[0;34m)\u001b[0m\u001b[0;34m\u001b[0m\u001b[0m\n\u001b[0m\u001b[1;32m      6\u001b[0m     \u001b[0mcount\u001b[0m\u001b[0;34m=\u001b[0m \u001b[0mcount\u001b[0m\u001b[0;34m+\u001b[0m\u001b[0;36m1\u001b[0m\u001b[0;34m\u001b[0m\u001b[0m\n\u001b[1;32m      7\u001b[0m \u001b[0;34m\u001b[0m\u001b[0m\n",
      "\u001b[0;31mIndexError\u001b[0m: list index out of range"
     ]
    }
   ],
   "source": [
    "\n",
    "count=0\n",
    "i=5\n",
    "for word in lexicon_file[i]:\n",
    "    lexicon_file.iloc[count][i] = (word.split('=')[1])\n",
    "    count= count+1\n",
    "\n"
   ]
  },
  {
   "cell_type": "code",
   "execution_count": null,
   "metadata": {
    "collapsed": true
   },
   "outputs": [],
   "source": []
  },
  {
   "cell_type": "code",
   "execution_count": 1,
   "metadata": {
    "collapsed": false
   },
   "outputs": [
    {
     "name": "stdout",
     "output_type": "stream",
     "text": [
      "/Users/Abhishek/Desktop/arglex_Somasundaran07/assessments.tff\n",
      "/Users/Abhishek/Desktop/arglex_Somasundaran07/authority.tff\n",
      "/Users/Abhishek/Desktop/arglex_Somasundaran07/causation.tff\n",
      "/Users/Abhishek/Desktop/arglex_Somasundaran07/conditionals.tff\n",
      "/Users/Abhishek/Desktop/arglex_Somasundaran07/contrast.tff\n",
      "/Users/Abhishek/Desktop/arglex_Somasundaran07/difficulty.tff\n",
      "/Users/Abhishek/Desktop/arglex_Somasundaran07/doubt.tff\n",
      "/Users/Abhishek/Desktop/arglex_Somasundaran07/emphasis.tff\n",
      "/Users/Abhishek/Desktop/arglex_Somasundaran07/generalization.tff\n",
      "/Users/Abhishek/Desktop/arglex_Somasundaran07/inconsistency.tff\n",
      "/Users/Abhishek/Desktop/arglex_Somasundaran07/inyourshoes.tff\n",
      "/Users/Abhishek/Desktop/arglex_Somasundaran07/necessity.tff\n",
      "/Users/Abhishek/Desktop/arglex_Somasundaran07/possibility.tff\n",
      "/Users/Abhishek/Desktop/arglex_Somasundaran07/priority.tff\n",
      "/Users/Abhishek/Desktop/arglex_Somasundaran07/rhetoricalquestion.tff\n",
      "/Users/Abhishek/Desktop/arglex_Somasundaran07/structure.tff\n",
      "/Users/Abhishek/Desktop/arglex_Somasundaran07/wants.tff\n"
     ]
    }
   ],
   "source": [
    "import glob\n",
    "\n",
    "for filename in glob.iglob('/Users/Abhishek/Desktop/arglex_Somasundaran07/*.tff'):\n",
    "     print(filename)"
   ]
  },
  {
   "cell_type": "markdown",
   "metadata": {},
   "source": [
    "## Arguing Lexicon"
   ]
  },
  {
   "cell_type": "code",
   "execution_count": 2,
   "metadata": {
    "collapsed": false
   },
   "outputs": [],
   "source": [
    "import re\n",
    "import glob"
   ]
  },
  {
   "cell_type": "code",
   "execution_count": 3,
   "metadata": {
    "collapsed": false
   },
   "outputs": [],
   "source": [
    "# Dictionary for all macros\n",
    "\n",
    "regdict = {}\n",
    "for file in (\"modals.tff\",\"spoken.tff\",\"wordclasses.tff\",\"pronoun.tff\",\"intensifiers.tff\"):\n",
    "    with open(\"/Users/Abhishek/Desktop/arglex_Somasundaran07/macros/\"+file) as f:\n",
    "        count=0\n",
    "        for line in f:\n",
    "            line = re.sub(\"\\n\", \"\", line)\n",
    "            if count==0:\n",
    "                macro_classname = line[7:] \n",
    "                count = count+1\n",
    "            else:\n",
    "                key_name = line.split(\"=\")[0]\n",
    "                value_name = line.split(\"=\")[1]\n",
    "                regdict[key_name]= [macro_classname,value_name]\n",
    "\n",
    "f.close()\n",
    "#print(regdict)"
   ]
  },
  {
   "cell_type": "code",
   "execution_count": 4,
   "metadata": {
    "collapsed": false,
    "scrolled": true
   },
   "outputs": [
    {
     "data": {
      "text/plain": [
       "['\"causation\"\\n', '\"emphasis\"\\n', '\"inconsistency\"\\n']"
      ]
     },
     "execution_count": 4,
     "metadata": {},
     "output_type": "execute_result"
    }
   ],
   "source": [
    "# FUNCTION TO GIVE CLASSNAME TO TWEET\n",
    "def arguing_features(tweet):\n",
    "    class_array = []\n",
    "    for filename in glob.iglob('/Users/Abhishek/Desktop/arglex_Somasundaran07/*.tff'):\n",
    "        with open(filename) as f:\n",
    "            contents = f.readlines()\n",
    "        \n",
    "        #tweet = 'That thing is a bastard to drive.'\n",
    "        count_line = 0\n",
    "        for line in contents:\n",
    "            if count_line==0:\n",
    "                classname = line[7:] \n",
    "                count_line = count_line+1\n",
    "\n",
    "            else:\n",
    "                # Taking care of the macros\n",
    "                if \"@\" in line:\n",
    "                    m = re.search('@\\w+',line)\n",
    "                    if m:\n",
    "                        found = m.group()\n",
    "\n",
    "                    replacement = regdict[found][1]  \n",
    "                    replacement = re.sub(\"[,]\", \"|\", replacement)\n",
    "                    replacement = re.sub(\"[{,}]\", \"\", replacement)\n",
    "                    line = line.replace(found, replacement)\n",
    "\n",
    "                # Assigning relevant classname to each tweet\n",
    "                \n",
    "                regexeval = str(line.strip())\n",
    "                regexp = re.compile(regexeval)\n",
    "                if regexp.search(tweet) is not None:\n",
    "                    #print(\"matched with \"+ classname )\n",
    "                    class_array.append(classname)\n",
    "                    \n",
    "        f.close()\n",
    "    return class_array\n",
    "\n",
    "arguing_features(\"Thatís all well and good... ...but if society is becoming more prosperous, why do young people seem less happy?\")"
   ]
  },
  {
   "cell_type": "code",
   "execution_count": 11,
   "metadata": {
    "collapsed": false
   },
   "outputs": [
    {
     "data": {
      "text/plain": [
       "['\"emphasis\"\\n', '\"necessity\"\\n']"
      ]
     },
     "execution_count": 11,
     "metadata": {},
     "output_type": "execute_result"
    }
   ],
   "source": [
    "arguing_features(\"They need to try again.\")"
   ]
  },
  {
   "cell_type": "code",
   "execution_count": null,
   "metadata": {
    "collapsed": true
   },
   "outputs": [],
   "source": []
  },
  {
   "cell_type": "code",
   "execution_count": 6,
   "metadata": {
    "collapsed": false
   },
   "outputs": [],
   "source": [
    "def arguing_count(tweet):\n",
    "    \n",
    "    arguing_features(tweet)\n",
    "    \n",
    "    count = {}\n",
    "    count[\"assessments\"]=0\n",
    "    count[\"doubt\"]=0\n",
    "    count[\"authority\"]=0\n",
    "    count[\"emphasis\"]=0\n",
    "    count[\"necessity\"]=0\n",
    "    count[\"causation\"]=0\n",
    "    count[\"generalization\"]=0\n",
    "    count[\"structure\"]=0\n",
    "    count[\"conditionals\"]=0\n",
    "    count[\"inconsistency\"]=0\n",
    "    count[\"possibility\"]=0\n",
    "    count[\"wants\"]=0\n",
    "    count[\"contrast\"]=0\n",
    "    count[\"priority\"]=0\n",
    "    count[\"difficulty\"]=0\n",
    "    count[\"inyourshoes\"]=0\n",
    "    count[\"rhetoricalquestion\"]=0\n",
    "    count=[0,0,0,0,0,0,0,0,0,0,0,0,0,0,0,0,0]\n",
    "\n",
    "\n",
    "    arguing_class = arguing_features(tweet)\n",
    "    print(arguing_class)\n",
    "\n",
    "    if arguing_class==\"assessments\":\n",
    "        count[0]=count[0]+1\n",
    "\n",
    "    elif arguing_class==\"doubt\":\n",
    "        count[1]+=1\n",
    "\n",
    "    elif arguing_class==\"authority\":\n",
    "        count[2]+=1\n",
    "\n",
    "    if \"\\\"emphasis\\\"\\n\" in arguing_class:\n",
    "        count[3]+=1\n",
    "\n",
    "    if \"\\\"necessity\\\"\\n\" in arguing_class:\n",
    "        count[4]+=1\n",
    "\n",
    "    if \"\\\"causation\\\"\\n\" in arguing_class:\n",
    "        count[5]+=1\n",
    "\n",
    "    elif arguing_class==\"generalization\":\n",
    "        count[6]+=1\n",
    "\n",
    "    elif arguing_class==\"structure\":\n",
    "        count[7]+=1\n",
    "\n",
    "    elif \"\\\"conditionals\\\"\\n\" in arguing_class:    \n",
    "        count[8]+=1\n",
    "\n",
    "    if \"\\\"inconsistency\\\"\\n\" in arguing_class:\n",
    "        count[9]+=1\n",
    "\n",
    "    elif arguing_class==\"possibility\":\n",
    "        count[10]+=1\n",
    "\n",
    "    elif arguing_class==\"wants\":\n",
    "        count[11]+=1\n",
    "\n",
    "    elif arguing_class==\"contrast\":\n",
    "        count[12]+=1\n",
    "\n",
    "    elif arguing_class==\"priority\":\n",
    "        count[13]+=1\n",
    "\n",
    "    elif arguing_class==\"difficulty\":\n",
    "        count[14]+=1\n",
    "\n",
    "    elif arguing_class==\"inyourshoes\":\n",
    "        count[15]+=1\n",
    "\n",
    "    elif arguing_class==\"rhetoricalquestion\":\n",
    "        count[16]+=1\n",
    "\n",
    "    return count\n"
   ]
  },
  {
   "cell_type": "code",
   "execution_count": 15,
   "metadata": {
    "collapsed": false
   },
   "outputs": [
    {
     "name": "stdout",
     "output_type": "stream",
     "text": [
      "['\"emphasis\"\\n']\n"
     ]
    },
    {
     "data": {
      "text/plain": [
       "[0, 0, 0, 1, 0, 0, 0, 0, 0, 0, 0, 0, 0, 0, 0, 0, 0]"
      ]
     },
     "execution_count": 15,
     "metadata": {},
     "output_type": "execute_result"
    }
   ],
   "source": [
    "arguing_count(\"My point is that you can't compare the capabilty here.\")"
   ]
  },
  {
   "cell_type": "code",
   "execution_count": null,
   "metadata": {
    "collapsed": true
   },
   "outputs": [],
   "source": []
  },
  {
   "cell_type": "markdown",
   "metadata": {
    "collapsed": false
   },
   "source": [
    "## ROUGH"
   ]
  },
  {
   "cell_type": "code",
   "execution_count": 292,
   "metadata": {
    "collapsed": false
   },
   "outputs": [
    {
     "name": "stdout",
     "output_type": "stream",
     "text": [
      "\"assessments\"\n",
      "\n",
      "matched\n"
     ]
    }
   ],
   "source": [
    "## Rough\n",
    "print(classname)\n",
    "\n",
    "word = \"my opinion is that\"\n",
    "regexeval = \"(our|my) (opinion|understanding) (is|was) that\"\n",
    "regexp = re.compile(regexeval)\n",
    "if regexp.search(word) is not None:\n",
    "  print(\"matched\")"
   ]
  },
  {
   "cell_type": "code",
   "execution_count": null,
   "metadata": {
    "collapsed": false
   },
   "outputs": [],
   "source": []
  },
  {
   "cell_type": "code",
   "execution_count": 283,
   "metadata": {
    "collapsed": false
   },
   "outputs": [],
   "source": [
    "macro = \"@BE={be,is,am,are,were,was,been,being}\"\n"
   ]
  },
  {
   "cell_type": "code",
   "execution_count": 289,
   "metadata": {
    "collapsed": false
   },
   "outputs": [],
   "source": [
    "key_name = macro.split(\"=\")[0]\n",
    "value_name = macro.split(\"=\")[1]\n",
    "macro_classname = \"modals\""
   ]
  },
  {
   "cell_type": "code",
   "execution_count": 290,
   "metadata": {
    "collapsed": false
   },
   "outputs": [],
   "source": [
    "testdict = {}\n",
    "testdict[key_name]= [macro_classname,value_name]\n"
   ]
  },
  {
   "cell_type": "code",
   "execution_count": 291,
   "metadata": {
    "collapsed": false
   },
   "outputs": [
    {
     "data": {
      "text/plain": [
       "['modals', '{be,is,am,are,were,was,been,being}']"
      ]
     },
     "execution_count": 291,
     "metadata": {},
     "output_type": "execute_result"
    }
   ],
   "source": [
    "testdict[\"@BE\"]"
   ]
  },
  {
   "cell_type": "code",
   "execution_count": 360,
   "metadata": {
    "collapsed": false
   },
   "outputs": [
    {
     "name": "stdout",
     "output_type": "stream",
     "text": [
      "(be|is|am|are|were|was|been|being) a necessity\n"
     ]
    }
   ],
   "source": [
    "sentence_with_macro = \" I am a necessity\"\n",
    "test_line = \"(@BE) a necessity\"\n",
    "\n",
    "m = re.search('\\{@\\w+\\}',test_line)\n",
    "if m:\n",
    "    found = m.group()\n",
    "\n",
    "replacement = testdict[found][1]  \n",
    "replacement = re.sub(\"[,]\", \"|\", replacement)\n",
    "replacement = re.sub(\"[{,}]\", \"\", replacement)\n",
    "test_line = test_line.replace(found, replacement)\n",
    "print(test_line)"
   ]
  },
  {
   "cell_type": "code",
   "execution_count": 21,
   "metadata": {
    "collapsed": false
   },
   "outputs": [
    {
     "name": "stdout",
     "output_type": "stream",
     "text": [
      "['\"emphasis\"\\n']\n"
     ]
    },
    {
     "data": {
      "text/plain": [
       "[0, 0, 0, 1, 0, 0, 0, 0, 0, 0, 0, 0, 0, 0, 0, 0, 0]"
      ]
     },
     "execution_count": 21,
     "metadata": {},
     "output_type": "execute_result"
    }
   ],
   "source": [
    "s = \"We're not saying that you don't need coal, but when you do mine the coal there are responsibilities to it.\"\n"
   ]
  },
  {
   "cell_type": "code",
   "execution_count": null,
   "metadata": {
    "collapsed": true
   },
   "outputs": [],
   "source": []
  }
 ],
 "metadata": {
  "anaconda-cloud": {},
  "kernelspec": {
   "display_name": "Python [Root]",
   "language": "python",
   "name": "Python [Root]"
  },
  "language_info": {
   "codemirror_mode": {
    "name": "ipython",
    "version": 3
   },
   "file_extension": ".py",
   "mimetype": "text/x-python",
   "name": "python",
   "nbconvert_exporter": "python",
   "pygments_lexer": "ipython3",
   "version": "3.5.2"
  }
 },
 "nbformat": 4,
 "nbformat_minor": 0
}
